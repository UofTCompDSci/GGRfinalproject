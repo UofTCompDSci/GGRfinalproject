{
 "cells": [
  {
   "cell_type": "markdown",
   "id": "c9860719",
   "metadata": {
    "tags": []
   },
   "source": [
    "# Final Project Proposal\n",
    "\n",
    "## Due date: March 20, 23:59\n",
    "\n",
    "### Submission details to follow\n",
    "\n",
    "## Instructions\n",
    "\n",
    "- Each group must submit a project proposal.  Your TA is aiming to give your group feedback within one week of submission.\n",
    "\n",
    "\n",
    "- The goal of the proposal is not to work out every detail around your group's presentation plans and analysis, but to ensure that the question is feasible and that each group has a work plan.  \n",
    "\n",
    "\n",
    "- Another goal is for the teaching team to be able to give your group feedback with enough time to incorporate the feedback.  Although, we view this as the start of the conversation between your group and your TA.\n",
    "\n",
    "\n",
    "- Each member should read the [instructions for the final project](GGR274posterpresentation.ipynb).\n",
    "\n",
    "## Grading\n",
    "\n",
    "- Each group member will recieve the same grade.\n",
    "\n",
    "- The six sections below will be graded as:\n",
    "\n",
    "\n",
    "Section     | 0 | 1 | 2 \n",
    "------------|---|---|---\n",
    "All sections| It's not clear how this section of the project will proceed| It's somewhat clear how this section will proceed, although there are several obvious items missing from the description| It's clear how this section will proceed.\n",
    "\n",
    "### Detailed Grading Rubric\n",
    "\n",
    "\n",
    "\n",
    "\n",
    "Section     | 0 | 1 | 2 \n",
    "------------|---|---|---\n",
    "Workload| Description of workload (i.e. number of tasks and obligations) for each member of the group is omitted. | Number of tasks and obligations are described for most members.| Number of tasks and obligations are described for all members.|\n",
    "Division of labour| One person of the group takes over most tasks. | Workload is predominantly attributed to one or two students leaving remaining student out. | Workload is attributed equally among participants. |\n",
    "Group coordination| Coordination plan and collaborative working plan is omitted. | Coordination described is unreasonable for the time frame given.| Coordination plan described is reasonable in terms of time allocation and efficient (e.g. uses available online collaborative tools).|\n",
    "Research question|Research question was omitted. | Research question was inappropriate given the methods of the study.| Research questions are stated clearly and are connected to the methodology described.|\n",
    "Data sources| Data source to be used is omitted. |Data source is stated but specific columns to be used are not stated nor described| Data source is stated, including citation and/or link, and specific columns to be used to answer the question are stated and/or described.\n",
    "Data wrangling|Processes to transform raw data into clean data are not described.| Clarity and structure of the data wrangling processes described is insufficient and/or code learnt in the course is not used.| Processes used to transform raw data into clean data are clearly described in a structured order and applies the wrangling processes learnt in the course.|\n",
    "Data analysis|Statistical methods to analyse data are not described.| Clarity and structure of the data analysis described is insufficient to understand what the student will code for. | Processes used to analyse data are clearly described and plans on using analytical concepts learnt throughout the course.|\n",
    "Results|Presentation of expected results are omitted. | Presentation of expected results is vaguely described | Tables and/or Graphs expected  are clearly stated (e.g. type of graph, table content) |\n",
    "Conclusions| Expected conclusions are omitted. | Expected conclusions and/or potential impacts and/or limitations are described or learning resolutions are described| Both expected conclusions (and/or potential impacts and/or limitations) and learning resolutions are described.|\n",
    "\n",
    "\n",
    "\n",
    "\n",
    "# What should the proposal contain?\n",
    "\n",
    "The proposal should be written in a Jupyter notebook and contain the following section headers as below.  You can use this notebook as a template for the proposal."
   ]
  },
  {
   "cell_type": "markdown",
   "id": "04fb7be6",
   "metadata": {},
   "source": [
    "0. **Division of labour:** How will each member contribute to completing this project? Make sure to list each member with a brief description of what they will do.  How will your group coordinate and work on the project?"
   ]
  },
  {
   "cell_type": "markdown",
   "id": "e76ca255",
   "metadata": {},
   "source": []
  },
  {
   "cell_type": "markdown",
   "id": "940a8cf5",
   "metadata": {},
   "source": [
    "1. **State the question:** What question(s) will your group answer?"
   ]
  },
  {
   "cell_type": "markdown",
   "id": "7f1dd3b3",
   "metadata": {},
   "source": []
  },
  {
   "cell_type": "markdown",
   "id": "94567ab5",
   "metadata": {},
   "source": [
    "2. **Data sources:** What data will your group use?  State specific data sets, and columns within the data sets that you will use to answer your question(s)."
   ]
  },
  {
   "cell_type": "markdown",
   "id": "b6ff1b55",
   "metadata": {},
   "source": []
  },
  {
   "cell_type": "markdown",
   "id": "736bc123",
   "metadata": {},
   "source": [
    "3. **Methods:** How will your group wrangle the data?  Will new variables be created?  What statistical methods will be used?"
   ]
  },
  {
   "cell_type": "markdown",
   "id": "005e99b7",
   "metadata": {},
   "source": []
  },
  {
   "cell_type": "markdown",
   "id": "ea35ed60",
   "metadata": {},
   "source": [
    "4. **Results:** How will the results be presented?  Tables, graphs?  "
   ]
  },
  {
   "cell_type": "markdown",
   "id": "6a2ceb90",
   "metadata": {},
   "source": []
  },
  {
   "cell_type": "markdown",
   "id": "7cd26d53",
   "metadata": {},
   "source": [
    "5. **Conclusions:** What types of conclusions does your group hope to make?  What do you hope to learn from this project?"
   ]
  },
  {
   "cell_type": "markdown",
   "id": "176d9fa4",
   "metadata": {},
   "source": []
  }
 ],
 "metadata": {
  "kernelspec": {
   "display_name": "Python 3 (ipykernel)",
   "language": "python",
   "name": "python3"
  },
  "language_info": {
   "codemirror_mode": {
    "name": "ipython",
    "version": 3
   },
   "file_extension": ".py",
   "mimetype": "text/x-python",
   "name": "python",
   "nbconvert_exporter": "python",
   "pygments_lexer": "ipython3",
   "version": "3.8.8"
  }
 },
 "nbformat": 4,
 "nbformat_minor": 5
}
